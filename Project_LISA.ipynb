{
 "cells": [
  {
   "cell_type": "code",
   "execution_count": 1,
   "metadata": {},
   "outputs": [],
   "source": [
    "import pandas as pd\n",
    "import numpy as np\n",
    "import matplotlib.pyplot as plt\n",
    "import seaborn as sns\n",
    "from datetime import datetime\n",
    "from pathlib import Path\n",
    "%matplotlib inline"
   ]
  },
  {
   "cell_type": "code",
   "execution_count": 2,
   "metadata": {},
   "outputs": [
    {
     "name": "stderr",
     "output_type": "stream",
     "text": [
      "/anaconda3/lib/python3.7/site-packages/IPython/core/interactiveshell.py:3020: DtypeWarning: Columns (43,88) have mixed types. Specify dtype option on import or set low_memory=False.\n",
      "  interactivity=interactivity, compiler=compiler, result=result)\n"
     ]
    },
    {
     "data": {
      "text/html": [
       "<div>\n",
       "<style scoped>\n",
       "    .dataframe tbody tr th:only-of-type {\n",
       "        vertical-align: middle;\n",
       "    }\n",
       "\n",
       "    .dataframe tbody tr th {\n",
       "        vertical-align: top;\n",
       "    }\n",
       "\n",
       "    .dataframe thead th {\n",
       "        text-align: right;\n",
       "    }\n",
       "</style>\n",
       "<table border=\"1\" class=\"dataframe\">\n",
       "  <thead>\n",
       "    <tr style=\"text-align: right;\">\n",
       "      <th></th>\n",
       "      <th>id</th>\n",
       "      <th>listing_url</th>\n",
       "      <th>scrape_id</th>\n",
       "      <th>last_scraped</th>\n",
       "      <th>name</th>\n",
       "      <th>summary</th>\n",
       "      <th>space</th>\n",
       "      <th>description</th>\n",
       "      <th>experiences_offered</th>\n",
       "      <th>neighborhood_overview</th>\n",
       "      <th>...</th>\n",
       "      <th>requires_license</th>\n",
       "      <th>license</th>\n",
       "      <th>jurisdiction_names</th>\n",
       "      <th>instant_bookable</th>\n",
       "      <th>is_business_travel_ready</th>\n",
       "      <th>cancellation_policy</th>\n",
       "      <th>require_guest_profile_picture</th>\n",
       "      <th>require_guest_phone_verification</th>\n",
       "      <th>calculated_host_listings_count</th>\n",
       "      <th>reviews_per_month</th>\n",
       "    </tr>\n",
       "  </thead>\n",
       "  <tbody>\n",
       "    <tr>\n",
       "      <th>0</th>\n",
       "      <td>11675715</td>\n",
       "      <td>https://www.airbnb.com/rooms/11675715</td>\n",
       "      <td>20171101012912</td>\n",
       "      <td>2017-11-01</td>\n",
       "      <td>Cozy 1 BR Basement Apartment</td>\n",
       "      <td>City Island is an active, year-round nautical ...</td>\n",
       "      <td>This very cozy apartment with features a queen...</td>\n",
       "      <td>City Island is an active, year-round nautical ...</td>\n",
       "      <td>none</td>\n",
       "      <td>City Island is a small island and a neighborho...</td>\n",
       "      <td>...</td>\n",
       "      <td>f</td>\n",
       "      <td>NaN</td>\n",
       "      <td>NaN</td>\n",
       "      <td>t</td>\n",
       "      <td>t</td>\n",
       "      <td>flexible</td>\n",
       "      <td>f</td>\n",
       "      <td>f</td>\n",
       "      <td>1</td>\n",
       "      <td>5.84</td>\n",
       "    </tr>\n",
       "    <tr>\n",
       "      <th>1</th>\n",
       "      <td>20702398</td>\n",
       "      <td>https://www.airbnb.com/rooms/20702398</td>\n",
       "      <td>20171101012912</td>\n",
       "      <td>2017-11-01</td>\n",
       "      <td>Quiet house on City Island</td>\n",
       "      <td>1 private bedroom and bathroom available for o...</td>\n",
       "      <td>NaN</td>\n",
       "      <td>1 private bedroom and bathroom available for o...</td>\n",
       "      <td>none</td>\n",
       "      <td>This neighborhood is dope! Lot's of seafood re...</td>\n",
       "      <td>...</td>\n",
       "      <td>f</td>\n",
       "      <td>NaN</td>\n",
       "      <td>NaN</td>\n",
       "      <td>f</td>\n",
       "      <td>f</td>\n",
       "      <td>moderate</td>\n",
       "      <td>f</td>\n",
       "      <td>f</td>\n",
       "      <td>1</td>\n",
       "      <td>2.61</td>\n",
       "    </tr>\n",
       "    <tr>\n",
       "      <th>2</th>\n",
       "      <td>9147025</td>\n",
       "      <td>https://www.airbnb.com/rooms/9147025</td>\n",
       "      <td>20171101012912</td>\n",
       "      <td>2017-11-01</td>\n",
       "      <td>Cozy City Island Cottage</td>\n",
       "      <td>City Island is a small community at the edge o...</td>\n",
       "      <td>This cozy little cottage is an open floor plan...</td>\n",
       "      <td>City Island is a small community at the edge o...</td>\n",
       "      <td>none</td>\n",
       "      <td>City Island is famous for it's seafood restaur...</td>\n",
       "      <td>...</td>\n",
       "      <td>f</td>\n",
       "      <td>NaN</td>\n",
       "      <td>NaN</td>\n",
       "      <td>f</td>\n",
       "      <td>f</td>\n",
       "      <td>moderate</td>\n",
       "      <td>f</td>\n",
       "      <td>f</td>\n",
       "      <td>1</td>\n",
       "      <td>2.79</td>\n",
       "    </tr>\n",
       "    <tr>\n",
       "      <th>3</th>\n",
       "      <td>1936633</td>\n",
       "      <td>https://www.airbnb.com/rooms/1936633</td>\n",
       "      <td>20171101012912</td>\n",
       "      <td>2017-11-01</td>\n",
       "      <td>Great 1BD waterfront City Island NY</td>\n",
       "      <td>NaN</td>\n",
       "      <td>I am renting my lovely one bedroom apartment t...</td>\n",
       "      <td>I am renting my lovely one bedroom apartment t...</td>\n",
       "      <td>none</td>\n",
       "      <td>The place is very conveniently located in City...</td>\n",
       "      <td>...</td>\n",
       "      <td>f</td>\n",
       "      <td>NaN</td>\n",
       "      <td>NaN</td>\n",
       "      <td>t</td>\n",
       "      <td>f</td>\n",
       "      <td>strict</td>\n",
       "      <td>f</td>\n",
       "      <td>f</td>\n",
       "      <td>1</td>\n",
       "      <td>1.06</td>\n",
       "    </tr>\n",
       "    <tr>\n",
       "      <th>4</th>\n",
       "      <td>19758402</td>\n",
       "      <td>https://www.airbnb.com/rooms/19758402</td>\n",
       "      <td>20171101012912</td>\n",
       "      <td>2017-11-01</td>\n",
       "      <td>Autumn Getaway at Cozy House By The Beach &amp; Woods</td>\n",
       "      <td>City Island is a quaint coastal town located 4...</td>\n",
       "      <td>Large three bedroom sunny house. Private bedro...</td>\n",
       "      <td>City Island is a quaint coastal town located 4...</td>\n",
       "      <td>none</td>\n",
       "      <td>Beautiful East Coast nature setting. Walk/bike...</td>\n",
       "      <td>...</td>\n",
       "      <td>f</td>\n",
       "      <td>NaN</td>\n",
       "      <td>NaN</td>\n",
       "      <td>f</td>\n",
       "      <td>f</td>\n",
       "      <td>moderate</td>\n",
       "      <td>f</td>\n",
       "      <td>f</td>\n",
       "      <td>1</td>\n",
       "      <td>3.53</td>\n",
       "    </tr>\n",
       "  </tbody>\n",
       "</table>\n",
       "<p>5 rows × 96 columns</p>\n",
       "</div>"
      ],
      "text/plain": [
       "         id                            listing_url       scrape_id  \\\n",
       "0  11675715  https://www.airbnb.com/rooms/11675715  20171101012912   \n",
       "1  20702398  https://www.airbnb.com/rooms/20702398  20171101012912   \n",
       "2   9147025   https://www.airbnb.com/rooms/9147025  20171101012912   \n",
       "3   1936633   https://www.airbnb.com/rooms/1936633  20171101012912   \n",
       "4  19758402  https://www.airbnb.com/rooms/19758402  20171101012912   \n",
       "\n",
       "  last_scraped                                               name  \\\n",
       "0   2017-11-01                       Cozy 1 BR Basement Apartment   \n",
       "1   2017-11-01                         Quiet house on City Island   \n",
       "2   2017-11-01                           Cozy City Island Cottage   \n",
       "3   2017-11-01                Great 1BD waterfront City Island NY   \n",
       "4   2017-11-01  Autumn Getaway at Cozy House By The Beach & Woods   \n",
       "\n",
       "                                             summary  \\\n",
       "0  City Island is an active, year-round nautical ...   \n",
       "1  1 private bedroom and bathroom available for o...   \n",
       "2  City Island is a small community at the edge o...   \n",
       "3                                                NaN   \n",
       "4  City Island is a quaint coastal town located 4...   \n",
       "\n",
       "                                               space  \\\n",
       "0  This very cozy apartment with features a queen...   \n",
       "1                                                NaN   \n",
       "2  This cozy little cottage is an open floor plan...   \n",
       "3  I am renting my lovely one bedroom apartment t...   \n",
       "4  Large three bedroom sunny house. Private bedro...   \n",
       "\n",
       "                                         description experiences_offered  \\\n",
       "0  City Island is an active, year-round nautical ...                none   \n",
       "1  1 private bedroom and bathroom available for o...                none   \n",
       "2  City Island is a small community at the edge o...                none   \n",
       "3  I am renting my lovely one bedroom apartment t...                none   \n",
       "4  City Island is a quaint coastal town located 4...                none   \n",
       "\n",
       "                               neighborhood_overview        ...          \\\n",
       "0  City Island is a small island and a neighborho...        ...           \n",
       "1  This neighborhood is dope! Lot's of seafood re...        ...           \n",
       "2  City Island is famous for it's seafood restaur...        ...           \n",
       "3  The place is very conveniently located in City...        ...           \n",
       "4  Beautiful East Coast nature setting. Walk/bike...        ...           \n",
       "\n",
       "  requires_license license jurisdiction_names instant_bookable  \\\n",
       "0                f     NaN                NaN                t   \n",
       "1                f     NaN                NaN                f   \n",
       "2                f     NaN                NaN                f   \n",
       "3                f     NaN                NaN                t   \n",
       "4                f     NaN                NaN                f   \n",
       "\n",
       "  is_business_travel_ready cancellation_policy require_guest_profile_picture  \\\n",
       "0                        t            flexible                             f   \n",
       "1                        f            moderate                             f   \n",
       "2                        f            moderate                             f   \n",
       "3                        f              strict                             f   \n",
       "4                        f            moderate                             f   \n",
       "\n",
       "  require_guest_phone_verification calculated_host_listings_count  \\\n",
       "0                                f                              1   \n",
       "1                                f                              1   \n",
       "2                                f                              1   \n",
       "3                                f                              1   \n",
       "4                                f                              1   \n",
       "\n",
       "   reviews_per_month  \n",
       "0               5.84  \n",
       "1               2.61  \n",
       "2               2.79  \n",
       "3               1.06  \n",
       "4               3.53  \n",
       "\n",
       "[5 rows x 96 columns]"
      ]
     },
     "execution_count": 2,
     "metadata": {},
     "output_type": "execute_result"
    }
   ],
   "source": [
    "# open cvs\n",
    "filename = \"/Users/giuliopiccolo/Desktop/lab/project/dataset/NYC_Airbnb_2017.csv\"\n",
    "filename1 = \"/Users/giuliopiccolo/Desktop/lab/project/dataset/NYC_house_price.csv\"\n",
    "# non vedo grandi lavori di datacleaning. Ci ragioniamo più avanti in caso\n",
    "df = pd.read_csv(filename)\n",
    "df.head()"
   ]
  },
  {
   "cell_type": "markdown",
   "metadata": {},
   "source": [
    "### Price dataset requires some cleaning effort"
   ]
  },
  {
   "cell_type": "code",
   "execution_count": 25,
   "metadata": {},
   "outputs": [
    {
     "data": {
      "text/plain": [
       "['ALPHABET CITY',\n",
       " 'CHELSEA',\n",
       " 'CHINATOWN',\n",
       " 'CIVIC CENTER',\n",
       " 'CLINTON',\n",
       " 'EAST VILLAGE',\n",
       " 'FASHION',\n",
       " 'FINANCIAL',\n",
       " 'FLATIRON',\n",
       " 'GRAMERCY']"
      ]
     },
     "execution_count": 25,
     "metadata": {},
     "output_type": "execute_result"
    }
   ],
   "source": [
    "# open NTC_house_price\n",
    "df_price = pd.read_csv(\"/Users/giuliopiccolo/Desktop/lab/project/dataset/NYC_house_price.csv\")\n",
    "mylist = df_price['NEIGHBORHOOD'].tolist()\n",
    "mylist = list(dict.fromkeys(mylist))\n",
    "mylist[:10]"
   ]
  },
  {
   "cell_type": "code",
   "execution_count": 4,
   "metadata": {},
   "outputs": [
    {
     "data": {
      "text/plain": [
       "(84548, 22)"
      ]
     },
     "execution_count": 4,
     "metadata": {},
     "output_type": "execute_result"
    }
   ],
   "source": [
    "# get the shape\n",
    "df_price.shape"
   ]
  },
  {
   "cell_type": "code",
   "execution_count": 5,
   "metadata": {},
   "outputs": [
    {
     "data": {
      "text/plain": [
       "2"
      ]
     },
     "execution_count": 5,
     "metadata": {},
     "output_type": "execute_result"
    }
   ],
   "source": [
    "# get the dimension\n",
    "df_price.ndim"
   ]
  },
  {
   "cell_type": "code",
   "execution_count": 6,
   "metadata": {},
   "outputs": [
    {
     "data": {
      "text/plain": [
       "Unnamed: 0                         int64\n",
       "BOROUGH                            int64\n",
       "NEIGHBORHOOD                      object\n",
       "BUILDING CLASS CATEGORY           object\n",
       "TAX CLASS AT PRESENT              object\n",
       "BLOCK                              int64\n",
       "LOT                                int64\n",
       "EASE-MENT                         object\n",
       "BUILDING CLASS AT PRESENT         object\n",
       "ADDRESS                           object\n",
       "APARTMENT NUMBER                  object\n",
       "ZIP CODE                           int64\n",
       "RESIDENTIAL UNITS                  int64\n",
       "COMMERCIAL UNITS                   int64\n",
       "TOTAL UNITS                        int64\n",
       "LAND SQUARE FEET                  object\n",
       "GROSS SQUARE FEET                 object\n",
       "YEAR BUILT                         int64\n",
       "TAX CLASS AT TIME OF SALE          int64\n",
       "BUILDING CLASS AT TIME OF SALE    object\n",
       "SALE PRICE                        object\n",
       "SALE DATE                         object\n",
       "dtype: object"
      ]
     },
     "execution_count": 6,
     "metadata": {},
     "output_type": "execute_result"
    }
   ],
   "source": [
    "# check the datatype of each colum to avoid surprise\n",
    "df_price.dtypes"
   ]
  },
  {
   "cell_type": "code",
   "execution_count": 7,
   "metadata": {},
   "outputs": [
    {
     "name": "stdout",
     "output_type": "stream",
     "text": [
      "<class 'pandas.core.frame.DataFrame'>\n",
      "RangeIndex: 84548 entries, 0 to 84547\n",
      "Data columns (total 22 columns):\n",
      "Unnamed: 0                        84548 non-null int64\n",
      "BOROUGH                           84548 non-null int64\n",
      "NEIGHBORHOOD                      84548 non-null object\n",
      "BUILDING CLASS CATEGORY           84548 non-null object\n",
      "TAX CLASS AT PRESENT              84548 non-null object\n",
      "BLOCK                             84548 non-null int64\n",
      "LOT                               84548 non-null int64\n",
      "EASE-MENT                         84548 non-null object\n",
      "BUILDING CLASS AT PRESENT         84548 non-null object\n",
      "ADDRESS                           84548 non-null object\n",
      "APARTMENT NUMBER                  84548 non-null object\n",
      "ZIP CODE                          84548 non-null int64\n",
      "RESIDENTIAL UNITS                 84548 non-null int64\n",
      "COMMERCIAL UNITS                  84548 non-null int64\n",
      "TOTAL UNITS                       84548 non-null int64\n",
      "LAND SQUARE FEET                  84548 non-null object\n",
      "GROSS SQUARE FEET                 84548 non-null object\n",
      "YEAR BUILT                        84548 non-null int64\n",
      "TAX CLASS AT TIME OF SALE         84548 non-null int64\n",
      "BUILDING CLASS AT TIME OF SALE    84548 non-null object\n",
      "SALE PRICE                        84548 non-null object\n",
      "SALE DATE                         84548 non-null object\n",
      "dtypes: int64(10), object(12)\n",
      "memory usage: 14.2+ MB\n"
     ]
    }
   ],
   "source": [
    "# description of every column\n",
    "df_price.info()"
   ]
  },
  {
   "cell_type": "code",
   "execution_count": 8,
   "metadata": {},
   "outputs": [
    {
     "data": {
      "text/html": [
       "<div>\n",
       "<style scoped>\n",
       "    .dataframe tbody tr th:only-of-type {\n",
       "        vertical-align: middle;\n",
       "    }\n",
       "\n",
       "    .dataframe tbody tr th {\n",
       "        vertical-align: top;\n",
       "    }\n",
       "\n",
       "    .dataframe thead th {\n",
       "        text-align: right;\n",
       "    }\n",
       "</style>\n",
       "<table border=\"1\" class=\"dataframe\">\n",
       "  <thead>\n",
       "    <tr style=\"text-align: right;\">\n",
       "      <th></th>\n",
       "      <th>Unnamed: 0</th>\n",
       "      <th>BOROUGH</th>\n",
       "      <th>BLOCK</th>\n",
       "      <th>LOT</th>\n",
       "      <th>ZIP CODE</th>\n",
       "      <th>RESIDENTIAL UNITS</th>\n",
       "      <th>COMMERCIAL UNITS</th>\n",
       "      <th>TOTAL UNITS</th>\n",
       "      <th>YEAR BUILT</th>\n",
       "      <th>TAX CLASS AT TIME OF SALE</th>\n",
       "    </tr>\n",
       "  </thead>\n",
       "  <tbody>\n",
       "    <tr>\n",
       "      <th>count</th>\n",
       "      <td>84548.000000</td>\n",
       "      <td>84548.000000</td>\n",
       "      <td>84548.000000</td>\n",
       "      <td>84548.000000</td>\n",
       "      <td>84548.000000</td>\n",
       "      <td>84548.000000</td>\n",
       "      <td>84548.000000</td>\n",
       "      <td>84548.000000</td>\n",
       "      <td>84548.000000</td>\n",
       "      <td>84548.000000</td>\n",
       "    </tr>\n",
       "    <tr>\n",
       "      <th>mean</th>\n",
       "      <td>10344.359878</td>\n",
       "      <td>2.998758</td>\n",
       "      <td>4237.218976</td>\n",
       "      <td>376.224015</td>\n",
       "      <td>10731.991614</td>\n",
       "      <td>2.025264</td>\n",
       "      <td>0.193559</td>\n",
       "      <td>2.249184</td>\n",
       "      <td>1789.322976</td>\n",
       "      <td>1.657485</td>\n",
       "    </tr>\n",
       "    <tr>\n",
       "      <th>std</th>\n",
       "      <td>7151.779436</td>\n",
       "      <td>1.289790</td>\n",
       "      <td>3568.263407</td>\n",
       "      <td>658.136814</td>\n",
       "      <td>1290.879147</td>\n",
       "      <td>16.721037</td>\n",
       "      <td>8.713183</td>\n",
       "      <td>18.972584</td>\n",
       "      <td>537.344993</td>\n",
       "      <td>0.819341</td>\n",
       "    </tr>\n",
       "    <tr>\n",
       "      <th>min</th>\n",
       "      <td>4.000000</td>\n",
       "      <td>1.000000</td>\n",
       "      <td>1.000000</td>\n",
       "      <td>1.000000</td>\n",
       "      <td>0.000000</td>\n",
       "      <td>0.000000</td>\n",
       "      <td>0.000000</td>\n",
       "      <td>0.000000</td>\n",
       "      <td>0.000000</td>\n",
       "      <td>1.000000</td>\n",
       "    </tr>\n",
       "    <tr>\n",
       "      <th>25%</th>\n",
       "      <td>4231.000000</td>\n",
       "      <td>2.000000</td>\n",
       "      <td>1322.750000</td>\n",
       "      <td>22.000000</td>\n",
       "      <td>10305.000000</td>\n",
       "      <td>0.000000</td>\n",
       "      <td>0.000000</td>\n",
       "      <td>1.000000</td>\n",
       "      <td>1920.000000</td>\n",
       "      <td>1.000000</td>\n",
       "    </tr>\n",
       "    <tr>\n",
       "      <th>50%</th>\n",
       "      <td>8942.000000</td>\n",
       "      <td>3.000000</td>\n",
       "      <td>3311.000000</td>\n",
       "      <td>50.000000</td>\n",
       "      <td>11209.000000</td>\n",
       "      <td>1.000000</td>\n",
       "      <td>0.000000</td>\n",
       "      <td>1.000000</td>\n",
       "      <td>1940.000000</td>\n",
       "      <td>2.000000</td>\n",
       "    </tr>\n",
       "    <tr>\n",
       "      <th>75%</th>\n",
       "      <td>15987.250000</td>\n",
       "      <td>4.000000</td>\n",
       "      <td>6281.000000</td>\n",
       "      <td>1001.000000</td>\n",
       "      <td>11357.000000</td>\n",
       "      <td>2.000000</td>\n",
       "      <td>0.000000</td>\n",
       "      <td>2.000000</td>\n",
       "      <td>1965.000000</td>\n",
       "      <td>2.000000</td>\n",
       "    </tr>\n",
       "    <tr>\n",
       "      <th>max</th>\n",
       "      <td>26739.000000</td>\n",
       "      <td>5.000000</td>\n",
       "      <td>16322.000000</td>\n",
       "      <td>9106.000000</td>\n",
       "      <td>11694.000000</td>\n",
       "      <td>1844.000000</td>\n",
       "      <td>2261.000000</td>\n",
       "      <td>2261.000000</td>\n",
       "      <td>2017.000000</td>\n",
       "      <td>4.000000</td>\n",
       "    </tr>\n",
       "  </tbody>\n",
       "</table>\n",
       "</div>"
      ],
      "text/plain": [
       "         Unnamed: 0       BOROUGH         BLOCK           LOT      ZIP CODE  \\\n",
       "count  84548.000000  84548.000000  84548.000000  84548.000000  84548.000000   \n",
       "mean   10344.359878      2.998758   4237.218976    376.224015  10731.991614   \n",
       "std     7151.779436      1.289790   3568.263407    658.136814   1290.879147   \n",
       "min        4.000000      1.000000      1.000000      1.000000      0.000000   \n",
       "25%     4231.000000      2.000000   1322.750000     22.000000  10305.000000   \n",
       "50%     8942.000000      3.000000   3311.000000     50.000000  11209.000000   \n",
       "75%    15987.250000      4.000000   6281.000000   1001.000000  11357.000000   \n",
       "max    26739.000000      5.000000  16322.000000   9106.000000  11694.000000   \n",
       "\n",
       "       RESIDENTIAL UNITS  COMMERCIAL UNITS   TOTAL UNITS    YEAR BUILT  \\\n",
       "count       84548.000000      84548.000000  84548.000000  84548.000000   \n",
       "mean            2.025264          0.193559      2.249184   1789.322976   \n",
       "std            16.721037          8.713183     18.972584    537.344993   \n",
       "min             0.000000          0.000000      0.000000      0.000000   \n",
       "25%             0.000000          0.000000      1.000000   1920.000000   \n",
       "50%             1.000000          0.000000      1.000000   1940.000000   \n",
       "75%             2.000000          0.000000      2.000000   1965.000000   \n",
       "max          1844.000000       2261.000000   2261.000000   2017.000000   \n",
       "\n",
       "       TAX CLASS AT TIME OF SALE  \n",
       "count               84548.000000  \n",
       "mean                    1.657485  \n",
       "std                     0.819341  \n",
       "min                     1.000000  \n",
       "25%                     1.000000  \n",
       "50%                     2.000000  \n",
       "75%                     2.000000  \n",
       "max                     4.000000  "
      ]
     },
     "execution_count": 8,
     "metadata": {},
     "output_type": "execute_result"
    }
   ],
   "source": [
    "# quick overview about key indicators\n",
    "df_price.describe()"
   ]
  },
  {
   "cell_type": "code",
   "execution_count": 9,
   "metadata": {},
   "outputs": [],
   "source": [
    "# columns' name lower case\n",
    "df_price = df_price.rename(columns=str.lower)\n",
    "# drop EASE-MENT column since it is empty and quite useless\n",
    "del df_price[\"ease-ment\"]\n",
    "# drop the first column. It's look like an iterator\n",
    "del df_price[\"unnamed: 0\"]"
   ]
  },
  {
   "cell_type": "code",
   "execution_count": 10,
   "metadata": {},
   "outputs": [
    {
     "data": {
      "text/plain": [
       "765"
      ]
     },
     "execution_count": 10,
     "metadata": {},
     "output_type": "execute_result"
    }
   ],
   "source": [
    "# let's check duplicate entries\n",
    "sum(df_price.duplicated(df_price.columns))"
   ]
  },
  {
   "cell_type": "code",
   "execution_count": 11,
   "metadata": {},
   "outputs": [
    {
     "data": {
      "text/plain": [
       "0"
      ]
     },
     "execution_count": 11,
     "metadata": {},
     "output_type": "execute_result"
    }
   ],
   "source": [
    "# delete duplicate and re-check your effort\n",
    "df_price = df_price.drop_duplicates(df_price.columns, keep=\"last\")\n",
    "sum(df_price.duplicated(df_price.columns))"
   ]
  },
  {
   "cell_type": "code",
   "execution_count": 12,
   "metadata": {},
   "outputs": [
    {
     "data": {
      "text/plain": [
       "Index([], dtype='object')"
      ]
     },
     "execution_count": 12,
     "metadata": {},
     "output_type": "execute_result"
    }
   ],
   "source": [
    "# checking missing values\n",
    "df_price.columns[df_price.isnull().any()]"
   ]
  },
  {
   "cell_type": "code",
   "execution_count": 16,
   "metadata": {},
   "outputs": [
    {
     "data": {
      "text/plain": [
       "<matplotlib.axes._subplots.AxesSubplot at 0x11590a470>"
      ]
     },
     "execution_count": 16,
     "metadata": {},
     "output_type": "execute_result"
    },
    {
     "data": {
      "image/png": "[encoded data removed]",
      "text/plain": [
       "<Figure size 432x288 with 2 Axes>"
      ]
     },
     "metadata": {
      "needs_background": "light"
     },
     "output_type": "display_data"
    }
   ],
   "source": [
    "corr = df_price.corr()\n",
    "sns.heatmap(corr, annot=True)"
   ]
  },
  {
   "cell_type": "code",
   "execution_count": null,
   "metadata": {},
   "outputs": [],
   "source": []
  },
  {
   "cell_type": "code",
   "execution_count": null,
   "metadata": {},
   "outputs": [],
   "source": []
  }
 ],
 "metadata": {
  "kernelspec": {
   "display_name": "Python 3",
   "language": "python",
   "name": "python3"
  },
  "language_info": {
   "codemirror_mode": {
    "name": "ipython",
    "version": 3
   },
   "file_extension": ".py",
   "mimetype": "text/x-python",
   "name": "python",
   "nbconvert_exporter": "python",
   "pygments_lexer": "ipython3",
   "version": "3.7.1"
  }
 },
 "nbformat": 4,
 "nbformat_minor": 2
}
