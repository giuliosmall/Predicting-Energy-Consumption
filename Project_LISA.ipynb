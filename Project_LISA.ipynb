{
 "cells": [
  {
   "cell_type": "markdown",
   "metadata": {},
   "source": [
    "# House price prediction from Airbnb housing and socio-demographic indexes from New York City, 2017\n",
    "\n",
    "* Brocco Mattia **|** 873058\n",
    "* Piccolo Giulio **|** 874727"
   ]
  },
  {
   "cell_type": "code",
   "execution_count": 1,
   "metadata": {
    "ExecuteTime": {
     "end_time": "2020-03-04T18:04:41.300402Z",
     "start_time": "2020-03-04T18:04:37.899848Z"
    }
   },
   "outputs": [],
   "source": [
    "import dtale\n",
    "import geopy\n",
    "import statistics\n",
    "import pandas as pd\n",
    "import numpy as np\n",
    "import matplotlib.pyplot as plt\n",
    "import seaborn as sns\n",
    "import scipy\n",
    "%matplotlib inline\n",
    "\n",
    "import Data_cleaner as cle\n",
    "%reload_ext autoreload\n",
    "%autoreload 2"
   ]
  },
  {
   "cell_type": "code",
   "execution_count": null,
   "metadata": {
    "ExecuteTime": {
     "end_time": "2020-02-28T15:55:14.972367Z",
     "start_time": "2020-02-28T15:55:14.898525Z"
    }
   },
   "outputs": [],
   "source": [
    "#################### IDEAS\n",
    "# From Block, Lot and Borough CREATE a map to locate each building"
   ]
  },
  {
   "cell_type": "code",
   "execution_count": null,
   "metadata": {
    "ExecuteTime": {
     "end_time": "2020-02-28T15:55:15.045993Z",
     "start_time": "2020-02-28T15:55:14.974116Z"
    }
   },
   "outputs": [],
   "source": [
    "### URL datasets\n",
    "# https://www.kaggle.com/muonneutrino/new-york-city-census-data\n",
    "# https://www.kaggle.com/new-york-city/nyc-property-sales#nyc-rolling-sales.csv\n",
    "\n",
    "### Giulio\n",
    "# filename = \"/Users/giuliopiccolo/Desktop/lab/project/dataset/NYC_Airbnb_2017.csv\"\n",
    "# filename1 = \"/Users/giuliopiccolo/Desktop/lab/project/dataset/NYC_house_price.csv\"\n",
    "\n",
    "### Mattia\n",
    "# filename = \"/Users/matti/Desktop/BA Second Year/3. Lab of Information systems and analytics/3. Project/NYC_Airbnb_2017.csv\"\n",
    "# filename1 = \"/Users/matti/Desktop/BA Second Year/3. Lab of Information systems and analytics/3. Project/NYC_house_price.csv\""
   ]
  },
  {
   "cell_type": "code",
   "execution_count": 2,
   "metadata": {
    "ExecuteTime": {
     "end_time": "2020-03-04T18:04:48.778139Z",
     "start_time": "2020-03-04T18:04:41.436884Z"
    }
   },
   "outputs": [],
   "source": [
    "airbnb = pd.read_csv(\"/Users/matti/Desktop/BA Second Year/3. Lab of Information systems and analytics/3. Project/NYC_Airbnb_2017.csv\", low_memory = False)\n",
    "house_price = pd.read_csv(\"/Users/matti/Desktop/BA Second Year/3. Lab of Information systems and analytics/3. Project/NYC_house_price.csv\")\n",
    "crashes = pd.read_csv(\"/Users/matti/Desktop/BA Second Year/3. Lab of Information systems and analytics/3. Project/NYC_collision.csv\", low_memory = False)"
   ]
  },
  {
   "cell_type": "markdown",
   "metadata": {},
   "source": [
    "## Data cleaning of NYC House Price dataset\n",
    "\n",
    "To assess the proportion to cut off the mean to compute the trimmed mean, we performed this analysis and the graphic result shows how a good approximation can be made at the cutoff of:\n",
    "* 0.011 for \"land_square_feet\"\n",
    "* 0.08 for \"gross_square_feet\"\n",
    "\n",
    "```python\n",
    "# This study was performed during data cleaning operations of the abovementioned dataframe\n",
    "x_var = np.arange(0, 0.5, 0.001)\n",
    "y_var = np.array( [round(scipy.stats.trim_mean(df_price['land_square_feet'], x), 3) for x in x_var] )\n",
    "z_soglia = [1650 for x in range(len(x_var))] # visual check for interception with y_var\n",
    "\n",
    "plt.figure(figsize=(15,6))\n",
    "plt.plot(y_var, linewidth = 5, color = \"#A4063E\")\n",
    "plt.plot(z_soglia, linewidth = 2, color = \"blue\")\n",
    "\n",
    "def find_nearest(array, value):\n",
    "    \"\"\"\n",
    "    * idx is the position (index) of the value we are looking for,\n",
    "    using the function armin to find the minimum value\n",
    "    * then return the actual value found\n",
    "    \"\"\"\n",
    "    idx = (np.abs(array - value)).argmin()\n",
    "    return array[idx]\n",
    "\n",
    "y_var_list = list(y_var)\n",
    "x_var_list = list(x_var)\n",
    "\n",
    "# Visualize the threshold for the truncated mean\n",
    "print(  x_var_list[y_var_list.index(find_nearest(y_var, z_soglia[0]))]  )\n",
    "```"
   ]
  },
  {
   "cell_type": "markdown",
   "metadata": {},
   "source": [
    "## Data cleasing of NYC house prices dataset"
   ]
  },
  {
   "cell_type": "code",
   "execution_count": 3,
   "metadata": {
    "ExecuteTime": {
     "end_time": "2020-03-04T18:04:49.297826Z",
     "start_time": "2020-03-04T18:04:48.779127Z"
    }
   },
   "outputs": [],
   "source": [
    "cleaner = cle.cleaners()\n",
    "df_price = cleaner.house_price_cleaner(house_price)"
   ]
  },
  {
   "cell_type": "code",
   "execution_count": null,
   "metadata": {
    "ExecuteTime": {
     "end_time": "2020-03-04T09:13:20.589655Z",
     "start_time": "2020-03-04T09:13:17.870695Z"
    },
    "scrolled": true
   },
   "outputs": [],
   "source": [
    "# Heatmap of correlations\n",
    "plt.figure(figsize = (10,8))\n",
    "corr = df_price.corr()\n",
    "sns.heatmap(corr, annot = True)\n",
    "\n",
    "#### Code to possibly slice dataset according to price thresholds\n",
    "#df_sliced = df_price[\"sale_price\"].copy()\n",
    "#df_sliced_list = [x for x in df_sliced.tolist() if 100000 < x < 10000000]\n",
    "#sns.distplot(df_sliced_list)"
   ]
  },
  {
   "cell_type": "code",
   "execution_count": null,
   "metadata": {
    "ExecuteTime": {
     "end_time": "2020-03-04T09:14:08.356605Z",
     "start_time": "2020-03-04T09:14:06.690057Z"
    }
   },
   "outputs": [],
   "source": [
    "# Barplot of available values\n",
    "gess = df_price.copy()\n",
    "count = []\n",
    "for var in gess.columns:\n",
    "    length = gess[var].count()\n",
    "    count.append(length)\n",
    "    \n",
    "count_pct = np.round(100 * pd.Series(count) / len(gess), 2)\n",
    "print(count_pct.tolist())\n",
    "\n",
    "plt.figure(figsize=(10,6), dpi = 300)\n",
    "plt.barh(gess.columns, count_pct)\n",
    "plt.title('Count of available data in percent', fontsize=15)\n",
    "plt.show()"
   ]
  },
  {
   "cell_type": "code",
   "execution_count": null,
   "metadata": {},
   "outputs": [],
   "source": [
    "# TO ADD\n",
    "# interative data visualization using plotly package (https://plot.ly)"
   ]
  },
  {
   "cell_type": "markdown",
   "metadata": {},
   "source": [
    "## Data cleasing of NYC car accidents dataset"
   ]
  },
  {
   "cell_type": "code",
   "execution_count": 4,
   "metadata": {
    "ExecuteTime": {
     "end_time": "2020-03-04T18:04:53.249279Z",
     "start_time": "2020-03-04T18:04:49.298824Z"
    }
   },
   "outputs": [],
   "source": [
    "df_crash = cleaner.crash_cleaner(crashes)"
   ]
  },
  {
   "cell_type": "markdown",
   "metadata": {},
   "source": [
    "### How many missing values do we have?"
   ]
  },
  {
   "cell_type": "markdown",
   "metadata": {},
   "source": [
    "The following heatmap serves as a way to visualize the extent to which a column contains empty cells.\n",
    "- Crashes that involve more than 2 vehicles are higly populated of missing values as expected, since most of the time crashes involves two vehicles only\n",
    "- The 'borough' column needs to be improved, and we did it by gathering the coordinates of the accident to identify the borough name"
   ]
  },
  {
   "cell_type": "code",
   "execution_count": 5,
   "metadata": {
    "ExecuteTime": {
     "end_time": "2020-03-04T18:04:59.186088Z",
     "start_time": "2020-03-04T18:04:53.250262Z"
    }
   },
   "outputs": [
    {
     "data": {
      "text/plain": [
       "<matplotlib.axes._subplots.AxesSubplot at 0x1700f5130c8>"
      ]
     },
     "execution_count": 5,
     "metadata": {},
     "output_type": "execute_result"
    },
    {
     "data": {
      "image/png": "[encoded data removed]",
      "text/plain": [
       "<Figure size 720x504 with 1 Axes>"
      ]
     },
     "metadata": {
      "needs_background": "light"
     },
     "output_type": "display_data"
    }
   ],
   "source": [
    "crash_to_viz = df_crash.copy()\n",
    "plt.figure(figsize=(10,7))\n",
    "sns.heatmap(crash_to_viz.isnull(), cbar = False, cmap = 'viridis')"
   ]
  },
  {
   "cell_type": "code",
   "execution_count": 6,
   "metadata": {
    "ExecuteTime": {
     "end_time": "2020-03-04T18:05:03.847589Z",
     "start_time": "2020-03-04T18:04:59.188044Z"
    }
   },
   "outputs": [],
   "source": [
    "from math import cos, asin, sqrt\n",
    "# Haversine formula\n",
    "def distance_viz(lat1, lon1, lat2, lon2):\n",
    "    p = 0.017453292519943295 # math.PI / 180\n",
    "    a = 0.5 - cos((lat2-lat1)*p)/2 + cos(lat1*p)*cos(lat2*p) * (1-cos((lon2-lon1)*p)) / 2\n",
    "    return 12742 * asin(sqrt(a)) #2 * R; R = 6371 km\n",
    "\n",
    "# get the closest point \n",
    "def closest_viz(data, v):\n",
    "    return min(data, key = lambda p: distance_viz(v[0], v[1], p[0], p[1]) )\n",
    "\n",
    "borough_dict = {\"BRONX\" : [40.837048, -73.865433], \"BROOKLYN\" : [40.650002, -73.949997],\n",
    "                \"MANHATTAN\" : [40.758896, -73.985130], \"QUEENS\" : [40.742054,-73.769417],\n",
    "                \"STATEN ISLAND\" : [40.579021,-74.151535]}\n",
    "\n",
    "boroughs = [(*value, key) for key, value in borough_dict.items()]\n",
    "\n",
    "crash_to_viz['borough'] = crash_to_viz.apply( lambda row:\n",
    "    closest_viz(boroughs, [row['latitude'], row['longitude']])[2]\n",
    "    if row['borough'] is None else row['borough'], axis=1)"
   ]
  },
  {
   "cell_type": "code",
   "execution_count": 7,
   "metadata": {
    "ExecuteTime": {
     "end_time": "2020-03-04T18:05:09.469195Z",
     "start_time": "2020-03-04T18:05:03.848281Z"
    }
   },
   "outputs": [
    {
     "data": {
      "text/plain": [
       "<matplotlib.axes._subplots.AxesSubplot at 0x1700b3fcfc8>"
      ]
     },
     "execution_count": 7,
     "metadata": {},
     "output_type": "execute_result"
    },
    {
     "data": {
      "image/png": "[encoded data removed]",
      "text/plain": [
       "<Figure size 720x504 with 1 Axes>"
      ]
     },
     "metadata": {
      "needs_background": "light"
     },
     "output_type": "display_data"
    }
   ],
   "source": [
    "# The same heatmap is performed to check the quantity of NaN values after the abovementioned map has been applied\n",
    "plt.figure(figsize=(10,7))\n",
    "sns.heatmap(crash_to_viz.isnull(), cbar = False, cmap = 'viridis')"
   ]
  },
  {
   "cell_type": "markdown",
   "metadata": {},
   "source": [
    "## NYC Neighborhoods coordinates and neigborhoods applied to all dataframes"
   ]
  },
  {
   "cell_type": "code",
   "execution_count": 8,
   "metadata": {
    "ExecuteTime": {
     "end_time": "2020-03-04T18:05:09.613845Z",
     "start_time": "2020-03-04T18:05:09.470158Z"
    }
   },
   "outputs": [],
   "source": [
    "neighborhoods = pd.read_excel(\"/Users/matti/Desktop/BA Second Year/3. Lab of Information systems and analytics/3. Project/NYC_neighborhoods.xlsx\")\n",
    "neighborhoods = neighborhoods.rename(columns = str.lower)\n",
    "\n",
    "neigh_copy = neighborhoods.copy()\n",
    "neigh_copy['neighborhood'] = neigh_copy['neighborhood'].str.capitalize()\n",
    "neigh_copy = neigh_copy.drop_duplicates(neigh_copy.columns, keep = \"last\")\n",
    "neigh_list = [tuple(x) for x in neigh_copy.values.tolist()]"
   ]
  },
  {
   "cell_type": "code",
   "execution_count": 9,
   "metadata": {
    "ExecuteTime": {
     "end_time": "2020-03-04T18:06:38.575292Z",
     "start_time": "2020-03-04T18:05:09.614789Z"
    }
   },
   "outputs": [],
   "source": [
    "df_price = df_price.merge(neighborhoods, on = \"neighborhood\")\n",
    "df_crash['neighborhood'] = df_crash.apply( lambda row:\n",
    "                                          cleaner.closest(neigh_list, [row['latitude'], row['longitude']])[0], axis=1)"
   ]
  },
  {
   "cell_type": "markdown",
   "metadata": {},
   "source": [
    "## Data cleasing of Airbnbs of NYC dataset"
   ]
  },
  {
   "cell_type": "markdown",
   "metadata": {},
   "source": [
    "The \"airbnb\" dataframe required only a little effort in cleasing operations. As shown through the chunck below, which output is $2.741 \\% $, this dataset is characterized by a very low rate of empty cells.\n",
    "```python\n",
    "print(\"Missing values: \",  df_blocks.isnull().sum().sum() , \" | Perc of total: \",\n",
    "      round(100*df_blocks.isnull().sum().sum() / (df_blocks.shape[0]*df_blocks.shape[1]), 3))\n",
    "```\n",
    "So, we decided to all drop the rows that presented NaN values, since they represent only a small share of the total.\n",
    "\n",
    "```python\n",
    "total = df1.isnull().sum().sort_values(ascending = False)\n",
    "percent = (df1.isnull().sum()/df1.isnull().count()).sort_values(ascending = False)\n",
    "\n",
    "missing_data = pd.concat([total, percent], axis = 1, keys = ['NAs', 'Percent']) # df with columns, nan values and %\n",
    "plt.plot( missing_data['Percent'] )\n",
    "missing_data.drop(missing_data[missing_data.Percent < 0.2].index, inplace = True)\n",
    "```\n",
    "After a further evaluation of the columns, we assessed that only ```\"reviews_per_month\"``` and ```\"last_review\"``` had more than more than 20% of the whole column filled with NaN values. So, we dropped those two columns and used ```.dropna()``` to delete other few rows with any NaN values."
   ]
  },
  {
   "cell_type": "code",
   "execution_count": 10,
   "metadata": {
    "ExecuteTime": {
     "end_time": "2020-03-04T18:06:38.769739Z",
     "start_time": "2020-03-04T18:06:38.576256Z"
    },
    "collapsed": true
   },
   "outputs": [
    {
     "name": "stdout",
     "output_type": "stream",
     "text": [
      "True\n"
     ]
    },
    {
     "data": {
      "text/html": [
       "<div>\n",
       "<style scoped>\n",
       "    .dataframe tbody tr th:only-of-type {\n",
       "        vertical-align: middle;\n",
       "    }\n",
       "\n",
       "    .dataframe tbody tr th {\n",
       "        vertical-align: top;\n",
       "    }\n",
       "\n",
       "    .dataframe thead th {\n",
       "        text-align: right;\n",
       "    }\n",
       "</style>\n",
       "<table border=\"1\" class=\"dataframe\">\n",
       "  <thead>\n",
       "    <tr style=\"text-align: right;\">\n",
       "      <th></th>\n",
       "      <th>id</th>\n",
       "      <th>name</th>\n",
       "      <th>host_id</th>\n",
       "      <th>host_name</th>\n",
       "      <th>borough</th>\n",
       "      <th>neighborhood</th>\n",
       "      <th>latitude</th>\n",
       "      <th>longitude</th>\n",
       "      <th>room_type</th>\n",
       "      <th>price</th>\n",
       "      <th>minimum_nights</th>\n",
       "      <th>number_of_reviews</th>\n",
       "      <th>calculated_host_listings_count</th>\n",
       "      <th>availability_365</th>\n",
       "    </tr>\n",
       "  </thead>\n",
       "  <tbody>\n",
       "    <tr>\n",
       "      <td>0</td>\n",
       "      <td>16457286</td>\n",
       "      <td>Quite room in Shared Apartment</td>\n",
       "      <td>11796099</td>\n",
       "      <td>Shanell</td>\n",
       "      <td>Brooklyn</td>\n",
       "      <td>Bedford-Stuyvesant</td>\n",
       "      <td>40.685559</td>\n",
       "      <td>-73.940650</td>\n",
       "      <td>Private room</td>\n",
       "      <td>38</td>\n",
       "      <td>14</td>\n",
       "      <td>2</td>\n",
       "      <td>1</td>\n",
       "      <td>0</td>\n",
       "    </tr>\n",
       "    <tr>\n",
       "      <td>1</td>\n",
       "      <td>1356652</td>\n",
       "      <td>COZY ROOM IN BEDFORD-STUYVESANT</td>\n",
       "      <td>4508795</td>\n",
       "      <td>Darlene</td>\n",
       "      <td>Brooklyn</td>\n",
       "      <td>Bedford-Stuyvesant</td>\n",
       "      <td>40.683917</td>\n",
       "      <td>-73.934671</td>\n",
       "      <td>Private room</td>\n",
       "      <td>90</td>\n",
       "      <td>2</td>\n",
       "      <td>2</td>\n",
       "      <td>1</td>\n",
       "      <td>365</td>\n",
       "    </tr>\n",
       "    <tr>\n",
       "      <td>2</td>\n",
       "      <td>775016</td>\n",
       "      <td>Reggae Den Sub Level Apartment</td>\n",
       "      <td>4088378</td>\n",
       "      <td>Karin</td>\n",
       "      <td>Brooklyn</td>\n",
       "      <td>Bedford-Stuyvesant</td>\n",
       "      <td>40.687344</td>\n",
       "      <td>-73.938055</td>\n",
       "      <td>Private room</td>\n",
       "      <td>90</td>\n",
       "      <td>2</td>\n",
       "      <td>1</td>\n",
       "      <td>1</td>\n",
       "      <td>365</td>\n",
       "    </tr>\n",
       "    <tr>\n",
       "      <td>3</td>\n",
       "      <td>773497</td>\n",
       "      <td>Great spot in Brooklyn</td>\n",
       "      <td>4081688</td>\n",
       "      <td>Santiago</td>\n",
       "      <td>Brooklyn</td>\n",
       "      <td>Bedford-Stuyvesant</td>\n",
       "      <td>40.694073</td>\n",
       "      <td>-73.945514</td>\n",
       "      <td>Shared room</td>\n",
       "      <td>200</td>\n",
       "      <td>1</td>\n",
       "      <td>0</td>\n",
       "      <td>1</td>\n",
       "      <td>365</td>\n",
       "    </tr>\n",
       "    <tr>\n",
       "      <td>4</td>\n",
       "      <td>8468835</td>\n",
       "      <td>Private room in Brooklyn</td>\n",
       "      <td>6518093</td>\n",
       "      <td>Mathilde</td>\n",
       "      <td>Brooklyn</td>\n",
       "      <td>Bedford-Stuyvesant</td>\n",
       "      <td>40.679685</td>\n",
       "      <td>-73.907642</td>\n",
       "      <td>Private room</td>\n",
       "      <td>50</td>\n",
       "      <td>1</td>\n",
       "      <td>2</td>\n",
       "      <td>1</td>\n",
       "      <td>0</td>\n",
       "    </tr>\n",
       "    <tr>\n",
       "      <td>...</td>\n",
       "      <td>...</td>\n",
       "      <td>...</td>\n",
       "      <td>...</td>\n",
       "      <td>...</td>\n",
       "      <td>...</td>\n",
       "      <td>...</td>\n",
       "      <td>...</td>\n",
       "      <td>...</td>\n",
       "      <td>...</td>\n",
       "      <td>...</td>\n",
       "      <td>...</td>\n",
       "      <td>...</td>\n",
       "      <td>...</td>\n",
       "      <td>...</td>\n",
       "    </tr>\n",
       "    <tr>\n",
       "      <td>48615</td>\n",
       "      <td>6405051</td>\n",
       "      <td>Spacious and Artsy Brooklyn Escape</td>\n",
       "      <td>24018734</td>\n",
       "      <td>Ari&amp;Remy</td>\n",
       "      <td>Brooklyn</td>\n",
       "      <td>Bedford-Stuyvesant</td>\n",
       "      <td>40.692096</td>\n",
       "      <td>-73.960232</td>\n",
       "      <td>Private room</td>\n",
       "      <td>55</td>\n",
       "      <td>4</td>\n",
       "      <td>16</td>\n",
       "      <td>1</td>\n",
       "      <td>170</td>\n",
       "    </tr>\n",
       "    <tr>\n",
       "      <td>48616</td>\n",
       "      <td>1869685</td>\n",
       "      <td>Cozy apartment available!</td>\n",
       "      <td>9745149</td>\n",
       "      <td>Idoline</td>\n",
       "      <td>Brooklyn</td>\n",
       "      <td>Bedford-Stuyvesant</td>\n",
       "      <td>40.681847</td>\n",
       "      <td>-73.953359</td>\n",
       "      <td>Entire home/apt</td>\n",
       "      <td>75</td>\n",
       "      <td>7</td>\n",
       "      <td>2</td>\n",
       "      <td>1</td>\n",
       "      <td>261</td>\n",
       "    </tr>\n",
       "    <tr>\n",
       "      <td>48617</td>\n",
       "      <td>3697194</td>\n",
       "      <td>Private Room 15 min from Manhattan</td>\n",
       "      <td>18834029</td>\n",
       "      <td>Stephen</td>\n",
       "      <td>Brooklyn</td>\n",
       "      <td>Bedford-Stuyvesant</td>\n",
       "      <td>40.679695</td>\n",
       "      <td>-73.948574</td>\n",
       "      <td>Private room</td>\n",
       "      <td>75</td>\n",
       "      <td>1</td>\n",
       "      <td>0</td>\n",
       "      <td>1</td>\n",
       "      <td>179</td>\n",
       "    </tr>\n",
       "    <tr>\n",
       "      <td>48618</td>\n",
       "      <td>18394404</td>\n",
       "      <td>Bedford Apartment In NYC</td>\n",
       "      <td>16905175</td>\n",
       "      <td>Shuhan</td>\n",
       "      <td>Brooklyn</td>\n",
       "      <td>Bedford-Stuyvesant</td>\n",
       "      <td>40.689866</td>\n",
       "      <td>-73.953985</td>\n",
       "      <td>Private room</td>\n",
       "      <td>80</td>\n",
       "      <td>7</td>\n",
       "      <td>0</td>\n",
       "      <td>1</td>\n",
       "      <td>0</td>\n",
       "    </tr>\n",
       "    <tr>\n",
       "      <td>48619</td>\n",
       "      <td>1335550</td>\n",
       "      <td>nice room in bedstuy J</td>\n",
       "      <td>6885157</td>\n",
       "      <td>Randy</td>\n",
       "      <td>Brooklyn</td>\n",
       "      <td>Bedford-Stuyvesant</td>\n",
       "      <td>40.682428</td>\n",
       "      <td>-73.951669</td>\n",
       "      <td>Private room</td>\n",
       "      <td>55</td>\n",
       "      <td>1</td>\n",
       "      <td>48</td>\n",
       "      <td>11</td>\n",
       "      <td>288</td>\n",
       "    </tr>\n",
       "  </tbody>\n",
       "</table>\n",
       "<p>48486 rows × 14 columns</p>\n",
       "</div>"
      ],
      "text/plain": [
       "             id                                name   host_id host_name  \\\n",
       "0      16457286      Quite room in Shared Apartment  11796099   Shanell   \n",
       "1       1356652     COZY ROOM IN BEDFORD-STUYVESANT   4508795   Darlene   \n",
       "2        775016      Reggae Den Sub Level Apartment   4088378     Karin   \n",
       "3        773497              Great spot in Brooklyn   4081688  Santiago   \n",
       "4       8468835            Private room in Brooklyn   6518093  Mathilde   \n",
       "...         ...                                 ...       ...       ...   \n",
       "48615   6405051  Spacious and Artsy Brooklyn Escape  24018734  Ari&Remy   \n",
       "48616   1869685           Cozy apartment available!   9745149   Idoline   \n",
       "48617   3697194  Private Room 15 min from Manhattan  18834029   Stephen   \n",
       "48618  18394404            Bedford Apartment In NYC  16905175    Shuhan   \n",
       "48619   1335550              nice room in bedstuy J   6885157     Randy   \n",
       "\n",
       "        borough        neighborhood   latitude  longitude        room_type  \\\n",
       "0      Brooklyn  Bedford-Stuyvesant  40.685559 -73.940650     Private room   \n",
       "1      Brooklyn  Bedford-Stuyvesant  40.683917 -73.934671     Private room   \n",
       "2      Brooklyn  Bedford-Stuyvesant  40.687344 -73.938055     Private room   \n",
       "3      Brooklyn  Bedford-Stuyvesant  40.694073 -73.945514      Shared room   \n",
       "4      Brooklyn  Bedford-Stuyvesant  40.679685 -73.907642     Private room   \n",
       "...         ...                 ...        ...        ...              ...   \n",
       "48615  Brooklyn  Bedford-Stuyvesant  40.692096 -73.960232     Private room   \n",
       "48616  Brooklyn  Bedford-Stuyvesant  40.681847 -73.953359  Entire home/apt   \n",
       "48617  Brooklyn  Bedford-Stuyvesant  40.679695 -73.948574     Private room   \n",
       "48618  Brooklyn  Bedford-Stuyvesant  40.689866 -73.953985     Private room   \n",
       "48619  Brooklyn  Bedford-Stuyvesant  40.682428 -73.951669     Private room   \n",
       "\n",
       "       price  minimum_nights  number_of_reviews  \\\n",
       "0         38              14                  2   \n",
       "1         90               2                  2   \n",
       "2         90               2                  1   \n",
       "3        200               1                  0   \n",
       "4         50               1                  2   \n",
       "...      ...             ...                ...   \n",
       "48615     55               4                 16   \n",
       "48616     75               7                  2   \n",
       "48617     75               1                  0   \n",
       "48618     80               7                  0   \n",
       "48619     55               1                 48   \n",
       "\n",
       "       calculated_host_listings_count  availability_365  \n",
       "0                                   1                 0  \n",
       "1                                   1               365  \n",
       "2                                   1               365  \n",
       "3                                   1               365  \n",
       "4                                   1                 0  \n",
       "...                               ...               ...  \n",
       "48615                               1               170  \n",
       "48616                               1               261  \n",
       "48617                               1               179  \n",
       "48618                               1                 0  \n",
       "48619                              11               288  \n",
       "\n",
       "[48486 rows x 14 columns]"
      ]
     },
     "execution_count": 10,
     "metadata": {},
     "output_type": "execute_result"
    }
   ],
   "source": [
    "df_airbnb = cleaner.airbnb_cleaner(airbnb)\n",
    "df_airbnb"
   ]
  },
  {
   "cell_type": "markdown",
   "metadata": {},
   "source": [
    "## Merge of all datasets"
   ]
  },
  {
   "cell_type": "markdown",
   "metadata": {},
   "source": [
    "Il dataset che dobbiamo ottenere ha come riga una casa, le colonne riguardanti gli incidenti e gli airbnb sono mergate rispetto al quartiere di appartenenza della casa.\n",
    "- ogni dataset va trasformato (tipo pivot) in modo che abbia come riga un quartiere e come colonna degli \"aggregate\" per ogni quartiere\n",
    "- poi si fa un merge degli altri due addosso a df_price\n",
    "\n",
    "ES: Airbnb\n",
    "- drop delle colonne \"id\",\"name\",\"host_id\",\"host_name\",\"borough\"\n",
    "- COLONNE: Neighborhood, Lat, Long, Moda di romm_type, media di price, media di min_price, media di reviews, media di listings, media di availability /// RIGHE: tante quante sono i quartieri\n",
    "\n",
    "\n",
    "\n",
    "\n",
    "Tutte le abitazione nello stesso quartiere avranno le stesse informazioni rispetto agli airbnb."
   ]
  },
  {
   "cell_type": "code",
   "execution_count": 11,
   "metadata": {
    "ExecuteTime": {
     "end_time": "2020-03-04T18:12:13.239461Z",
     "start_time": "2020-03-04T18:12:13.135708Z"
    }
   },
   "outputs": [
    {
     "data": {
      "text/html": [
       "<div>\n",
       "<style scoped>\n",
       "    .dataframe tbody tr th:only-of-type {\n",
       "        vertical-align: middle;\n",
       "    }\n",
       "\n",
       "    .dataframe tbody tr th {\n",
       "        vertical-align: top;\n",
       "    }\n",
       "\n",
       "    .dataframe thead th {\n",
       "        text-align: right;\n",
       "    }\n",
       "</style>\n",
       "<table border=\"1\" class=\"dataframe\">\n",
       "  <thead>\n",
       "    <tr style=\"text-align: right;\">\n",
       "      <th></th>\n",
       "      <th>id</th>\n",
       "      <th>name</th>\n",
       "      <th>host_id</th>\n",
       "      <th>host_name</th>\n",
       "      <th>borough</th>\n",
       "      <th>neighborhood</th>\n",
       "      <th>latitude</th>\n",
       "      <th>longitude</th>\n",
       "      <th>room_type</th>\n",
       "      <th>price</th>\n",
       "      <th>minimum_nights</th>\n",
       "      <th>number_of_reviews</th>\n",
       "      <th>calculated_host_listings_count</th>\n",
       "      <th>availability_365</th>\n",
       "    </tr>\n",
       "  </thead>\n",
       "  <tbody>\n",
       "    <tr>\n",
       "      <td>0</td>\n",
       "      <td>16457286</td>\n",
       "      <td>Quite room in Shared Apartment</td>\n",
       "      <td>11796099</td>\n",
       "      <td>Shanell</td>\n",
       "      <td>Brooklyn</td>\n",
       "      <td>Bedford-Stuyvesant</td>\n",
       "      <td>40.685559</td>\n",
       "      <td>-73.940650</td>\n",
       "      <td>Private room</td>\n",
       "      <td>38</td>\n",
       "      <td>14</td>\n",
       "      <td>2</td>\n",
       "      <td>1</td>\n",
       "      <td>0</td>\n",
       "    </tr>\n",
       "    <tr>\n",
       "      <td>1</td>\n",
       "      <td>1356652</td>\n",
       "      <td>COZY ROOM IN BEDFORD-STUYVESANT</td>\n",
       "      <td>4508795</td>\n",
       "      <td>Darlene</td>\n",
       "      <td>Brooklyn</td>\n",
       "      <td>Bedford-Stuyvesant</td>\n",
       "      <td>40.683917</td>\n",
       "      <td>-73.934671</td>\n",
       "      <td>Private room</td>\n",
       "      <td>90</td>\n",
       "      <td>2</td>\n",
       "      <td>2</td>\n",
       "      <td>1</td>\n",
       "      <td>365</td>\n",
       "    </tr>\n",
       "    <tr>\n",
       "      <td>2</td>\n",
       "      <td>775016</td>\n",
       "      <td>Reggae Den Sub Level Apartment</td>\n",
       "      <td>4088378</td>\n",
       "      <td>Karin</td>\n",
       "      <td>Brooklyn</td>\n",
       "      <td>Bedford-Stuyvesant</td>\n",
       "      <td>40.687344</td>\n",
       "      <td>-73.938055</td>\n",
       "      <td>Private room</td>\n",
       "      <td>90</td>\n",
       "      <td>2</td>\n",
       "      <td>1</td>\n",
       "      <td>1</td>\n",
       "      <td>365</td>\n",
       "    </tr>\n",
       "    <tr>\n",
       "      <td>3</td>\n",
       "      <td>773497</td>\n",
       "      <td>Great spot in Brooklyn</td>\n",
       "      <td>4081688</td>\n",
       "      <td>Santiago</td>\n",
       "      <td>Brooklyn</td>\n",
       "      <td>Bedford-Stuyvesant</td>\n",
       "      <td>40.694073</td>\n",
       "      <td>-73.945514</td>\n",
       "      <td>Shared room</td>\n",
       "      <td>200</td>\n",
       "      <td>1</td>\n",
       "      <td>0</td>\n",
       "      <td>1</td>\n",
       "      <td>365</td>\n",
       "    </tr>\n",
       "    <tr>\n",
       "      <td>4</td>\n",
       "      <td>8468835</td>\n",
       "      <td>Private room in Brooklyn</td>\n",
       "      <td>6518093</td>\n",
       "      <td>Mathilde</td>\n",
       "      <td>Brooklyn</td>\n",
       "      <td>Bedford-Stuyvesant</td>\n",
       "      <td>40.679685</td>\n",
       "      <td>-73.907642</td>\n",
       "      <td>Private room</td>\n",
       "      <td>50</td>\n",
       "      <td>1</td>\n",
       "      <td>2</td>\n",
       "      <td>1</td>\n",
       "      <td>0</td>\n",
       "    </tr>\n",
       "    <tr>\n",
       "      <td>...</td>\n",
       "      <td>...</td>\n",
       "      <td>...</td>\n",
       "      <td>...</td>\n",
       "      <td>...</td>\n",
       "      <td>...</td>\n",
       "      <td>...</td>\n",
       "      <td>...</td>\n",
       "      <td>...</td>\n",
       "      <td>...</td>\n",
       "      <td>...</td>\n",
       "      <td>...</td>\n",
       "      <td>...</td>\n",
       "      <td>...</td>\n",
       "      <td>...</td>\n",
       "    </tr>\n",
       "    <tr>\n",
       "      <td>48615</td>\n",
       "      <td>6405051</td>\n",
       "      <td>Spacious and Artsy Brooklyn Escape</td>\n",
       "      <td>24018734</td>\n",
       "      <td>Ari&amp;Remy</td>\n",
       "      <td>Brooklyn</td>\n",
       "      <td>Bedford-Stuyvesant</td>\n",
       "      <td>40.692096</td>\n",
       "      <td>-73.960232</td>\n",
       "      <td>Private room</td>\n",
       "      <td>55</td>\n",
       "      <td>4</td>\n",
       "      <td>16</td>\n",
       "      <td>1</td>\n",
       "      <td>170</td>\n",
       "    </tr>\n",
       "    <tr>\n",
       "      <td>48616</td>\n",
       "      <td>1869685</td>\n",
       "      <td>Cozy apartment available!</td>\n",
       "      <td>9745149</td>\n",
       "      <td>Idoline</td>\n",
       "      <td>Brooklyn</td>\n",
       "      <td>Bedford-Stuyvesant</td>\n",
       "      <td>40.681847</td>\n",
       "      <td>-73.953359</td>\n",
       "      <td>Entire home/apt</td>\n",
       "      <td>75</td>\n",
       "      <td>7</td>\n",
       "      <td>2</td>\n",
       "      <td>1</td>\n",
       "      <td>261</td>\n",
       "    </tr>\n",
       "    <tr>\n",
       "      <td>48617</td>\n",
       "      <td>3697194</td>\n",
       "      <td>Private Room 15 min from Manhattan</td>\n",
       "      <td>18834029</td>\n",
       "      <td>Stephen</td>\n",
       "      <td>Brooklyn</td>\n",
       "      <td>Bedford-Stuyvesant</td>\n",
       "      <td>40.679695</td>\n",
       "      <td>-73.948574</td>\n",
       "      <td>Private room</td>\n",
       "      <td>75</td>\n",
       "      <td>1</td>\n",
       "      <td>0</td>\n",
       "      <td>1</td>\n",
       "      <td>179</td>\n",
       "    </tr>\n",
       "    <tr>\n",
       "      <td>48618</td>\n",
       "      <td>18394404</td>\n",
       "      <td>Bedford Apartment In NYC</td>\n",
       "      <td>16905175</td>\n",
       "      <td>Shuhan</td>\n",
       "      <td>Brooklyn</td>\n",
       "      <td>Bedford-Stuyvesant</td>\n",
       "      <td>40.689866</td>\n",
       "      <td>-73.953985</td>\n",
       "      <td>Private room</td>\n",
       "      <td>80</td>\n",
       "      <td>7</td>\n",
       "      <td>0</td>\n",
       "      <td>1</td>\n",
       "      <td>0</td>\n",
       "    </tr>\n",
       "    <tr>\n",
       "      <td>48619</td>\n",
       "      <td>1335550</td>\n",
       "      <td>nice room in bedstuy J</td>\n",
       "      <td>6885157</td>\n",
       "      <td>Randy</td>\n",
       "      <td>Brooklyn</td>\n",
       "      <td>Bedford-Stuyvesant</td>\n",
       "      <td>40.682428</td>\n",
       "      <td>-73.951669</td>\n",
       "      <td>Private room</td>\n",
       "      <td>55</td>\n",
       "      <td>1</td>\n",
       "      <td>48</td>\n",
       "      <td>11</td>\n",
       "      <td>288</td>\n",
       "    </tr>\n",
       "  </tbody>\n",
       "</table>\n",
       "<p>48486 rows × 14 columns</p>\n",
       "</div>"
      ],
      "text/plain": [
       "             id                                name   host_id host_name  \\\n",
       "0      16457286      Quite room in Shared Apartment  11796099   Shanell   \n",
       "1       1356652     COZY ROOM IN BEDFORD-STUYVESANT   4508795   Darlene   \n",
       "2        775016      Reggae Den Sub Level Apartment   4088378     Karin   \n",
       "3        773497              Great spot in Brooklyn   4081688  Santiago   \n",
       "4       8468835            Private room in Brooklyn   6518093  Mathilde   \n",
       "...         ...                                 ...       ...       ...   \n",
       "48615   6405051  Spacious and Artsy Brooklyn Escape  24018734  Ari&Remy   \n",
       "48616   1869685           Cozy apartment available!   9745149   Idoline   \n",
       "48617   3697194  Private Room 15 min from Manhattan  18834029   Stephen   \n",
       "48618  18394404            Bedford Apartment In NYC  16905175    Shuhan   \n",
       "48619   1335550              nice room in bedstuy J   6885157     Randy   \n",
       "\n",
       "        borough        neighborhood   latitude  longitude        room_type  \\\n",
       "0      Brooklyn  Bedford-Stuyvesant  40.685559 -73.940650     Private room   \n",
       "1      Brooklyn  Bedford-Stuyvesant  40.683917 -73.934671     Private room   \n",
       "2      Brooklyn  Bedford-Stuyvesant  40.687344 -73.938055     Private room   \n",
       "3      Brooklyn  Bedford-Stuyvesant  40.694073 -73.945514      Shared room   \n",
       "4      Brooklyn  Bedford-Stuyvesant  40.679685 -73.907642     Private room   \n",
       "...         ...                 ...        ...        ...              ...   \n",
       "48615  Brooklyn  Bedford-Stuyvesant  40.692096 -73.960232     Private room   \n",
       "48616  Brooklyn  Bedford-Stuyvesant  40.681847 -73.953359  Entire home/apt   \n",
       "48617  Brooklyn  Bedford-Stuyvesant  40.679695 -73.948574     Private room   \n",
       "48618  Brooklyn  Bedford-Stuyvesant  40.689866 -73.953985     Private room   \n",
       "48619  Brooklyn  Bedford-Stuyvesant  40.682428 -73.951669     Private room   \n",
       "\n",
       "       price  minimum_nights  number_of_reviews  \\\n",
       "0         38              14                  2   \n",
       "1         90               2                  2   \n",
       "2         90               2                  1   \n",
       "3        200               1                  0   \n",
       "4         50               1                  2   \n",
       "...      ...             ...                ...   \n",
       "48615     55               4                 16   \n",
       "48616     75               7                  2   \n",
       "48617     75               1                  0   \n",
       "48618     80               7                  0   \n",
       "48619     55               1                 48   \n",
       "\n",
       "       calculated_host_listings_count  availability_365  \n",
       "0                                   1                 0  \n",
       "1                                   1               365  \n",
       "2                                   1               365  \n",
       "3                                   1               365  \n",
       "4                                   1                 0  \n",
       "...                               ...               ...  \n",
       "48615                               1               170  \n",
       "48616                               1               261  \n",
       "48617                               1               179  \n",
       "48618                               1                 0  \n",
       "48619                              11               288  \n",
       "\n",
       "[48486 rows x 14 columns]"
      ]
     },
     "execution_count": 11,
     "metadata": {},
     "output_type": "execute_result"
    }
   ],
   "source": [
    "df_airbnb"
   ]
  },
  {
   "cell_type": "markdown",
   "metadata": {},
   "source": [
    "## First try of ML Prediction\n",
    "\n",
    "Steps to follow:\n",
    "1. Descriptive analysis on the Data – 50% time\n",
    "2. Data treatment (Missing value and outlier fixing) – 40% time\n",
    "3. Data Modelling – 4% time\n",
    "4. Estimation of performance – 6% time\n"
   ]
  },
  {
   "cell_type": "markdown",
   "metadata": {},
   "source": [
    "STEP 1:\n",
    "1. Identify ID, Input (columns of df_price) and Target (house price) features\n",
    "2. Identify categorical and numerical features\n",
    "3. Identify columns with missing values (already done)"
   ]
  },
  {
   "cell_type": "code",
   "execution_count": null,
   "metadata": {
    "ExecuteTime": {
     "end_time": "2020-02-27T21:41:22.729186Z",
     "start_time": "2020-02-27T21:41:22.524843Z"
    }
   },
   "outputs": [],
   "source": [
    "price_train = df_price.copy()\n",
    "price_train = price_train.loc[0:500]"
   ]
  },
  {
   "cell_type": "code",
   "execution_count": null,
   "metadata": {
    "ExecuteTime": {
     "end_time": "2020-02-27T21:54:37.266456Z",
     "start_time": "2020-02-27T21:54:37.067773Z"
    }
   },
   "outputs": [],
   "source": [
    "df_census.iloc[1]"
   ]
  },
  {
   "cell_type": "code",
   "execution_count": null,
   "metadata": {
    "ExecuteTime": {
     "end_time": "2020-02-27T21:51:05.328427Z",
     "start_time": "2020-02-27T21:51:05.140385Z"
    }
   },
   "outputs": [],
   "source": [
    "price_train.dtypes"
   ]
  },
  {
   "cell_type": "code",
   "execution_count": null,
   "metadata": {
    "ExecuteTime": {
     "end_time": "2020-02-27T21:52:51.795987Z",
     "start_time": "2020-02-27T21:52:51.598516Z"
    }
   },
   "outputs": [],
   "source": [
    "r = np.corrcoef(price_train[\"total_units\"],\n",
    "                price_train[\"sale_price\"])\n",
    "r"
   ]
  },
  {
   "cell_type": "code",
   "execution_count": null,
   "metadata": {
    "ExecuteTime": {
     "end_time": "2020-02-27T21:52:53.102762Z",
     "start_time": "2020-02-27T21:52:52.643873Z"
    }
   },
   "outputs": [],
   "source": [
    "plt.scatter(price_train[\"total_units\"],\n",
    "                price_train[\"sale_price\"])"
   ]
  },
  {
   "cell_type": "code",
   "execution_count": null,
   "metadata": {
    "ExecuteTime": {
     "end_time": "2020-02-28T15:19:23.684741Z",
     "start_time": "2020-02-28T15:19:23.604941Z"
    }
   },
   "outputs": [],
   "source": [
    "print( len([val for val in df_price[\"sale_price\"] if val < 5000]) )"
   ]
  },
  {
   "cell_type": "code",
   "execution_count": null,
   "metadata": {
    "ExecuteTime": {
     "end_time": "2020-02-28T16:28:17.902619Z",
     "start_time": "2020-02-28T16:28:17.821835Z"
    }
   },
   "outputs": [],
   "source": [
    "len(np.arange(2000000, 200000000, 5000))"
   ]
  },
  {
   "cell_type": "code",
   "execution_count": null,
   "metadata": {
    "ExecuteTime": {
     "end_time": "2020-02-28T16:41:44.839746Z",
     "start_time": "2020-02-28T16:28:24.486440Z"
    }
   },
   "outputs": [],
   "source": [
    "x_var = np.arange(2000000, 200000000, 5000)\n",
    "y_var = np.array( [len( [val for val in df_price[\"sale_price\"] if val < x] ) for x in x_var] )\n",
    "#z_soglia = [1650 for x in range(len(x_var))] # visual check for interception with y_var\n",
    "\n",
    "plt.figure(figsize=(18,7))\n",
    "plt.title(\"Andamento del numero di righe rispetto alla soglia fissata (x < soglia)\")\n",
    "plt.axvline(x = 2000000, color = \"red\", linewidth = 2)\n",
    "#plt.plot(y_var, linewidth = 5, color = \"#A4063E\")\n",
    "plt.scatter(x_var, y_var)\n",
    "#plt.plot(y_var, linewidth = 5, color = \"#A4063E\")\n",
    "#plt.plot(z_soglia, linewidth = 2, color = \"blue\")"
   ]
  },
  {
   "cell_type": "code",
   "execution_count": null,
   "metadata": {
    "ExecuteTime": {
     "end_time": "2020-02-28T16:48:04.084177Z",
     "start_time": "2020-02-28T16:48:03.996380Z"
    }
   },
   "outputs": [],
   "source": [
    "price_over_2M = [x for x in df_price[\"sale_price\"].tolist() if 2000000 < x < 200000000]\n",
    "price_over_2M[0]"
   ]
  },
  {
   "cell_type": "code",
   "execution_count": null,
   "metadata": {
    "ExecuteTime": {
     "end_time": "2020-02-28T16:48:04.879254Z",
     "start_time": "2020-02-28T16:48:04.629572Z"
    }
   },
   "outputs": [],
   "source": [
    "sns.distplot(price_over_2M, axlabel = \"sale_price\")"
   ]
  },
  {
   "cell_type": "code",
   "execution_count": null,
   "metadata": {
    "ExecuteTime": {
     "end_time": "2020-02-28T16:56:25.665627Z",
     "start_time": "2020-02-28T16:56:25.421526Z"
    }
   },
   "outputs": [],
   "source": [
    "sns.kdeplot([x for x in df_price[\"sale_price\"].tolist() if 10000 < x < 2000000])\n",
    "sns.kdeplot([x for x in df_price[\"sale_price\"].tolist() if 20000 < x < 2000000])\n",
    "sns.kdeplot([x for x in df_price[\"sale_price\"].tolist() if 50000 < x < 2000000])\n",
    "#sns.kdeplot([x for x in df_price[\"sale_price\"].tolist() if 1000000 < x < 2000000])"
   ]
  },
  {
   "cell_type": "code",
   "execution_count": null,
   "metadata": {
    "ExecuteTime": {
     "end_time": "2020-02-28T16:53:21.542369Z",
     "start_time": "2020-02-28T16:53:21.279110Z"
    }
   },
   "outputs": [],
   "source": [
    "sns.distplot([x for x in df_price[\"sale_price\"].tolist() if 10000 < x < 2000000], axlabel = \"sale_price\")"
   ]
  },
  {
   "cell_type": "code",
   "execution_count": null,
   "metadata": {
    "ExecuteTime": {
     "end_time": "2020-02-28T17:51:24.658677Z",
     "start_time": "2020-02-28T17:51:24.395988Z"
    }
   },
   "outputs": [],
   "source": [
    "max(df_price[\"sale_price\"])"
   ]
  },
  {
   "cell_type": "code",
   "execution_count": null,
   "metadata": {
    "ExecuteTime": {
     "end_time": "2020-02-28T16:50:58.699607Z",
     "start_time": "2020-02-28T16:50:57.952562Z"
    }
   },
   "outputs": [],
   "source": [
    "asse_x = range(69607)\n",
    "asse_y = sorted(df_price[\"sale_price\"])\n",
    "plt.scatter(asse_x, asse_y)"
   ]
  },
  {
   "cell_type": "code",
   "execution_count": null,
   "metadata": {
    "ExecuteTime": {
     "end_time": "2020-02-28T18:43:38.402628Z",
     "start_time": "2020-02-28T18:43:38.188528Z"
    }
   },
   "outputs": [],
   "source": [
    "list_price = df_price['neighborhood'].tolist()\n",
    "list_price = list(dict.fromkeys(list_price))\n",
    "list_price  = [x.lower() for x in list_price]\n",
    "\n",
    "list_census = df_census[\"County\"].tolist()\n",
    "list_census = list(dict.fromkeys(list_census))\n",
    "\n",
    "list_df1 = df1[\"neighbourhood\"].tolist()\n",
    "list_df1 = list(dict.fromkeys(list_df1))\n",
    "list_df1  = [x.lower() for x in list_df1]"
   ]
  },
  {
   "cell_type": "code",
   "execution_count": null,
   "metadata": {
    "ExecuteTime": {
     "end_time": "2020-02-28T18:43:14.177925Z",
     "start_time": "2020-02-28T18:43:13.959575Z"
    }
   },
   "outputs": [],
   "source": [
    "print(list_price)"
   ]
  },
  {
   "cell_type": "code",
   "execution_count": null,
   "metadata": {
    "ExecuteTime": {
     "end_time": "2020-02-28T18:44:55.768446Z",
     "start_time": "2020-02-28T18:44:55.550100Z"
    }
   },
   "outputs": [],
   "source": [
    "print(list_df1)"
   ]
  },
  {
   "cell_type": "code",
   "execution_count": null,
   "metadata": {
    "ExecuteTime": {
     "end_time": "2020-02-28T18:28:15.239650Z",
     "start_time": "2020-02-28T18:28:15.023069Z"
    }
   },
   "outputs": [],
   "source": [
    "list_census_state = df_blocks[\"State\"].tolist()\n",
    "list_census_state = list(dict.fromkeys(list_census_state))"
   ]
  },
  {
   "cell_type": "code",
   "execution_count": null,
   "metadata": {
    "ExecuteTime": {
     "end_time": "2020-02-28T18:28:15.535505Z",
     "start_time": "2020-02-28T18:28:15.341187Z"
    }
   },
   "outputs": [],
   "source": [
    "list_census_state"
   ]
  },
  {
   "cell_type": "code",
   "execution_count": null,
   "metadata": {
    "ExecuteTime": {
     "end_time": "2020-02-28T18:44:05.057443Z",
     "start_time": "2020-02-28T18:44:04.842064Z"
    }
   },
   "outputs": [],
   "source": [
    "print( len([x for x in list_price if x in list_df1]) )"
   ]
  },
  {
   "cell_type": "code",
   "execution_count": null,
   "metadata": {
    "ExecuteTime": {
     "end_time": "2020-03-04T10:16:24.588110Z",
     "start_time": "2020-03-04T10:16:24.242772Z"
    }
   },
   "outputs": [],
   "source": [
    "mylist2 = df_airbnb['neighbourhood'].tolist()\n",
    "mylist2 = list(dict.fromkeys(mylist2))\n",
    "mylist2"
   ]
  },
  {
   "cell_type": "code",
   "execution_count": null,
   "metadata": {
    "ExecuteTime": {
     "end_time": "2020-03-04T16:22:00.773764Z",
     "start_time": "2020-03-04T16:22:00.592720Z"
    }
   },
   "outputs": [],
   "source": [
    "mylist[197]#.index(\"WOODSIDE\")"
   ]
  },
  {
   "cell_type": "code",
   "execution_count": null,
   "metadata": {},
   "outputs": [],
   "source": []
  }
 ],
 "metadata": {
  "kernelspec": {
   "display_name": "Python 3",
   "language": "python",
   "name": "python3"
  },
  "language_info": {
   "codemirror_mode": {
    "name": "ipython",
    "version": 3
   },
   "file_extension": ".py",
   "mimetype": "text/x-python",
   "name": "python",
   "nbconvert_exporter": "python",
   "pygments_lexer": "ipython3",
   "version": "3.7.4"
  }
 },
 "nbformat": 4,
 "nbformat_minor": 2
}
